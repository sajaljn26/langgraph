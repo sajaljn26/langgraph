{
 "cells": [
  {
   "cell_type": "code",
   "execution_count": 3,
   "id": "b1d85164",
   "metadata": {},
   "outputs": [],
   "source": [
    "from typing import TypedDict,List\n",
    "from langgraph.graph import StateGraph"
   ]
  },
  {
   "cell_type": "code",
   "execution_count": 4,
   "id": "8cce9f2b",
   "metadata": {},
   "outputs": [],
   "source": [
    "class AgentState(TypedDict):\n",
    "    values : List[int]\n",
    "    name : str\n",
    "    result : str\n"
   ]
  },
  {
   "cell_type": "code",
   "execution_count": 27,
   "id": "a1b78218",
   "metadata": {},
   "outputs": [],
   "source": [
    "def process_values(state : AgentState) -> AgentState:\n",
    "    \"\"\"This function handles multiple different inputs\"\"\"\n",
    "    print(state)\n",
    "\n",
    "    state[\"result\"] = f\"Hi there {state['name']} your sum is {sum(state['values'])}\"\n",
    "\n",
    "    print(state)\n",
    "    return state\n"
   ]
  },
  {
   "cell_type": "code",
   "execution_count": 28,
   "id": "76f6c5dd",
   "metadata": {},
   "outputs": [],
   "source": [
    "graph = StateGraph(AgentState)\n",
    "\n",
    "graph.add_node(\"processor\", process_values)\n",
    "graph.set_entry_point(\"processor\")\n",
    "graph.set_finish_point(\"processor\")\n",
    "\n",
    "app = graph.compile()"
   ]
  },
  {
   "cell_type": "code",
   "execution_count": 29,
   "id": "934510d8",
   "metadata": {},
   "outputs": [
    {
     "data": {
      "image/png": "[encoded data removed]",
      "text/plain": [
       "<IPython.core.display.Image object>"
      ]
     },
     "metadata": {},
     "output_type": "display_data"
    }
   ],
   "source": [
    "from IPython.display import display,Image\n",
    "display(Image(app.get_graph().draw_mermaid_png()))"
   ]
  },
  {
   "cell_type": "code",
   "execution_count": 30,
   "id": "1504fb96",
   "metadata": {},
   "outputs": [
    {
     "name": "stdout",
     "output_type": "stream",
     "text": [
      "{'values': [1, 2, 3], 'name': 'Sajal'}\n",
      "{'values': [1, 2, 3], 'name': 'Sajal', 'result': 'Hi there Sajal your sum is 6'}\n"
     ]
    }
   ],
   "source": [
    "answers = app.invoke({\"values\" : [1,2,3], \"name\" : \"Sajal\"})"
   ]
  },
  {
   "cell_type": "code",
   "execution_count": 31,
   "id": "e5041569",
   "metadata": {},
   "outputs": [
    {
     "name": "stdout",
     "output_type": "stream",
     "text": [
      "Hi there Sajal your sum is 6\n"
     ]
    }
   ],
   "source": [
    "print(answers[\"result\"])"
   ]
  }
 ],
 "metadata": {
  "kernelspec": {
   "display_name": ".venv",
   "language": "python",
   "name": "python3"
  },
  "language_info": {
   "codemirror_mode": {
    "name": "ipython",
    "version": 3
   },
   "file_extension": ".py",
   "mimetype": "text/x-python",
   "name": "python",
   "nbconvert_exporter": "python",
   "pygments_lexer": "ipython3",
   "version": "3.12.4"
  }
 },
 "nbformat": 4,
 "nbformat_minor": 5
}
