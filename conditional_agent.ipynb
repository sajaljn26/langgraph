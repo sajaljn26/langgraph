{
 "cells": [
  {
   "cell_type": "code",
   "execution_count": 20,
   "id": "acde735d",
   "metadata": {},
   "outputs": [],
   "source": [
    "from typing import TypedDict,Dict\n",
    "from langgraph.graph import StateGraph,START,END"
   ]
  },
  {
   "cell_type": "code",
   "execution_count": 21,
   "id": "7675e9dc",
   "metadata": {},
   "outputs": [],
   "source": [
    "class AgentState(TypedDict):\n",
    "    number1 : int\n",
    "    operation : str\n",
    "    number2 : int\n",
    "    finalNumber : int\n",
    "    \n",
    "\n",
    "\n",
    "    "
   ]
  },
  {
   "cell_type": "code",
   "execution_count": 22,
   "id": "b2eaab9e",
   "metadata": {},
   "outputs": [],
   "source": [
    "def adder(state: AgentState) -> AgentState:\n",
    "    \"\"\"This node adds the 2 numbers\"\"\"\n",
    "\n",
    "    state['finalNumber'] = state['number1'] + state['number2']\n",
    "    return state\n",
    "\n",
    "def subtracter(state: AgentState) -> AgentState:\n",
    "    \"\"\"This node subtracts the 2 numbers\"\"\"\n",
    "\n",
    "    state['finalNumber'] = state['number1'] - state['number2']\n",
    "    return state\n",
    "\n",
    "def decide_next_node(state:AgentState)->AgentState:\n",
    "    \"\"\"This node will design the next node based on the operation\"\"\"\n",
    "    if state['operation'] == '+':\n",
    "        return \"addition_operation\"\n",
    "    else:\n",
    "        return \"subtraction_operation\""
   ]
  },
  {
   "cell_type": "code",
   "execution_count": null,
   "id": "5afa5b1a",
   "metadata": {},
   "outputs": [],
   "source": [
    "graph = StateGraph(AgentState)\n",
    "\n",
    "graph.add_node(\"add_node\",adder)\n",
    "graph.add_node(\"subtract_node\",subtracter)\n",
    "graph.add_node(\"router\",lambda state : state)\n",
    "graph.add_node(\"router2\",lambda state : state)\n",
    "\n",
    "graph.add_edge(START,\"router\")\n",
    "graph.add_conditional_edges(\n",
    "    \"router\",\n",
    "    decide_next_node,\n",
    "    {\n",
    "         \"addition_operation\":\"add_node\",\n",
    "         \"subtraction_operation\":\"subtract_node\"\n",
    "    }\n",
    "\n",
    "\n",
    ")\n",
    "\n",
    "graph.add_edge(\"add_node\",\"router2\")\n",
    "graph.add_edge(\"subtract_node\",\"router2\")\n",
    "\n",
    "app = graph.compile()"
   ]
  },
  {
   "cell_type": "code",
   "execution_count": 31,
   "id": "74276365",
   "metadata": {},
   "outputs": [
    {
     "data": {
      "image/png": "[encoded data removed]",
      "text/plain": [
       "<IPython.core.display.Image object>"
      ]
     },
     "metadata": {},
     "output_type": "display_data"
    }
   ],
   "source": [
    "from IPython.display import Image,display\n",
    "display(Image(app.get_graph().draw_mermaid_png()))\n",
    "\n"
   ]
  },
  {
   "cell_type": "code",
   "execution_count": 32,
   "id": "8b740a25",
   "metadata": {},
   "outputs": [
    {
     "name": "stdout",
     "output_type": "stream",
     "text": [
      "{'number1': 2, 'operation': '+', 'number2': 3, 'finalNumber': 5}\n"
     ]
    }
   ],
   "source": [
    "print(app.invoke({\"number1\":2,\"operation\":\"+\",\"number2\":3}))"
   ]
  }
 ],
 "metadata": {
  "kernelspec": {
   "display_name": ".venv",
   "language": "python",
   "name": "python3"
  },
  "language_info": {
   "codemirror_mode": {
    "name": "ipython",
    "version": 3
   },
   "file_extension": ".py",
   "mimetype": "text/x-python",
   "name": "python",
   "nbconvert_exporter": "python",
   "pygments_lexer": "ipython3",
   "version": "3.12.4"
  }
 },
 "nbformat": 4,
 "nbformat_minor": 5
}
